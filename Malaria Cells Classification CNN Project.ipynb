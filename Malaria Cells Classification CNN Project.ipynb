{
 "cells": [
  {
   "cell_type": "markdown",
   "id": "728b8e2e",
   "metadata": {},
   "source": [
    "## Pulling  Data"
   ]
  },
  {
   "cell_type": "code",
   "execution_count": 24,
   "id": "5311b3b1",
   "metadata": {},
   "outputs": [],
   "source": [
    "import tensorflow as tf\n",
    "tf.config.run_functions_eagerly(True)\n",
    "import tensorflow_datasets as tfds\n",
    "from tensorflow import keras\n",
    "import matplotlib.pyplot as plt\n",
    "import urllib3\n",
    "import numpy as np\n",
    "from sklearn.metrics import classification_report, confusion_matrix\n",
    "import matplotlib.pyplot as plt\n",
    "import seaborn as sns\n",
    "\n",
    "\n",
    "[train_ds, valid_ds, test_ds] , info = tfds.load(\"malaria\", \n",
    "                                                 split = ['train[:70%]', 'train[70%:85%]', 'train[85%:]'], \n",
    "                                                 shuffle_files=True, \n",
    "                                                 with_info=True)\n",
    "\n",
    "NEW_HEIGHT = 64\n",
    "NEW_WIDTH = 64\n",
    "BATCH_SIZE = 100"
   ]
  },
  {
   "cell_type": "code",
   "execution_count": 25,
   "id": "95692437",
   "metadata": {},
   "outputs": [],
   "source": [
    "\n",
    "def fix_image(ds):\n",
    "    ds[\"image\"] = tf.image.convert_image_dtype(ds[\"image\"], tf.float32)\n",
    "    ds[\"image\"] = tf.image.resize_with_crop_or_pad(ds[\"image\"], NEW_HEIGHT, NEW_WIDTH)\n",
    "    return ds[\"image\"], tf.one_hot(ds[\"label\"], depth=2)  # One-hot encode the labels\n",
    "\n",
    "fixed_train_ds = train_ds.map(fix_image).batch(BATCH_SIZE)\n",
    "fixed_valid_ds = valid_ds.map(fix_image).batch(BATCH_SIZE)\n",
    "fixed_test_ds = test_ds.map(fix_image).batch(BATCH_SIZE)"
   ]
  },
  {
   "cell_type": "code",
   "execution_count": 3,
   "id": "dee10737",
   "metadata": {},
   "outputs": [
    {
     "data": {
      "text/plain": [
       "<_BatchDataset element_spec=(TensorSpec(shape=(None, 64, 64, 3), dtype=tf.float32, name=None), TensorSpec(shape=(None, 2), dtype=tf.float32, name=None))>"
      ]
     },
     "execution_count": 3,
     "metadata": {},
     "output_type": "execute_result"
    }
   ],
   "source": [
    "fixed_train_ds"
   ]
  },
  {
   "cell_type": "code",
   "execution_count": 23,
   "id": "0e1062c0",
   "metadata": {},
   "outputs": [
    {
     "ename": "ValueError",
     "evalue": "The truth value of an array with more than one element is ambiguous. Use a.any() or a.all()",
     "output_type": "error",
     "traceback": [
      "\u001b[1;31m---------------------------------------------------------------------------\u001b[0m",
      "\u001b[1;31mValueError\u001b[0m                                Traceback (most recent call last)",
      "Cell \u001b[1;32mIn[23], line 14\u001b[0m\n\u001b[0;32m     12\u001b[0m ax\u001b[38;5;241m.\u001b[39mset_yticks([])\n\u001b[0;32m     13\u001b[0m plt\u001b[38;5;241m.\u001b[39mimshow(batch_image[i])\n\u001b[1;32m---> 14\u001b[0m \u001b[38;5;28;01mif\u001b[39;00m batch_label[i]:\n\u001b[0;32m     15\u001b[0m     plt\u001b[38;5;241m.\u001b[39mtitle(ds_names[\u001b[38;5;241m1\u001b[39m])\n\u001b[0;32m     16\u001b[0m \u001b[38;5;28;01melse\u001b[39;00m:\n",
      "File \u001b[1;32m~\\anaconda3\\lib\\site-packages\\tensorflow\\python\\framework\\ops.py:1047\u001b[0m, in \u001b[0;36m_EagerTensorBase.__bool__\u001b[1;34m(self)\u001b[0m\n\u001b[0;32m   1046\u001b[0m \u001b[38;5;28;01mdef\u001b[39;00m \u001b[38;5;21m__bool__\u001b[39m(\u001b[38;5;28mself\u001b[39m):\n\u001b[1;32m-> 1047\u001b[0m   \u001b[38;5;28;01mreturn\u001b[39;00m \u001b[38;5;28;43mbool\u001b[39;49m\u001b[43m(\u001b[49m\u001b[38;5;28;43mself\u001b[39;49m\u001b[38;5;241;43m.\u001b[39;49m\u001b[43m_numpy\u001b[49m\u001b[43m(\u001b[49m\u001b[43m)\u001b[49m\u001b[43m)\u001b[49m\n",
      "\u001b[1;31mValueError\u001b[0m: The truth value of an array with more than one element is ambiguous. Use a.any() or a.all()"
     ]
    },
    {
     "data": {
      "image/png": "[encoded data removed]",
      "text/plain": [
       "<Figure size 1600x1200 with 1 Axes>"
      ]
     },
     "metadata": {},
     "output_type": "display_data"
    }
   ],
   "source": [
    "ds_size = info.splits[\"train\"].num_examples\n",
    "ds_names = info.features[\"label\"].names\n",
    "ds_classes = info.features[\"label\"].num_classes\n",
    "\n",
    "batch_image, batch_label = next(iter(fixed_train_d))\n",
    "\n",
    "plt.figure(figsize= (16,12))\n",
    "\n",
    "for i in range(4):\n",
    "    ax = plt.subplot(4,4,i+1)\n",
    "    ax.set_xticks([])\n",
    "    ax.set_yticks([])\n",
    "    plt.imshow(batch_image[i])\n",
    "    if batch_label[i]:\n",
    "        plt.title(ds_names[1])\n",
    "    else:\n",
    "        plt.title(ds_names[0])"
   ]
  },
  {
   "cell_type": "code",
   "execution_count": null,
   "id": "a6f77b65",
   "metadata": {},
   "outputs": [],
   "source": []
  },
  {
   "cell_type": "code",
   "execution_count": 5,
   "id": "8582f035",
   "metadata": {},
   "outputs": [
    {
     "name": "stdout",
     "output_type": "stream",
     "text": [
      "Model: \"sequential\"\n",
      "_________________________________________________________________\n",
      " Layer (type)                Output Shape              Param #   \n",
      "=================================================================\n",
      " conv2d (Conv2D)             (None, 62, 62, 32)        896       \n",
      "                                                                 \n",
      " max_pooling2d (MaxPooling2  (None, 31, 31, 32)        0         \n",
      " D)                                                              \n",
      "                                                                 \n",
      " batch_normalization (Batch  (None, 31, 31, 32)        128       \n",
      " Normalization)                                                  \n",
      "                                                                 \n",
      " dropout (Dropout)           (None, 31, 31, 32)        0         \n",
      "                                                                 \n",
      " conv2d_1 (Conv2D)           (None, 29, 29, 32)        9248      \n",
      "                                                                 \n",
      " max_pooling2d_1 (MaxPoolin  (None, 14, 14, 32)        0         \n",
      " g2D)                                                            \n",
      "                                                                 \n",
      " batch_normalization_1 (Bat  (None, 14, 14, 32)        128       \n",
      " chNormalization)                                                \n",
      "                                                                 \n",
      " dropout_1 (Dropout)         (None, 14, 14, 32)        0         \n",
      "                                                                 \n",
      " flatten (Flatten)           (None, 6272)              0         \n",
      "                                                                 \n",
      " dense (Dense)               (None, 512)               3211776   \n",
      "                                                                 \n",
      " batch_normalization_2 (Bat  (None, 512)               2048      \n",
      " chNormalization)                                                \n",
      "                                                                 \n",
      " dropout_2 (Dropout)         (None, 512)               0         \n",
      "                                                                 \n",
      " dense_1 (Dense)             (None, 256)               131328    \n",
      "                                                                 \n",
      " batch_normalization_3 (Bat  (None, 256)               1024      \n",
      " chNormalization)                                                \n",
      "                                                                 \n",
      " dropout_3 (Dropout)         (None, 256)               0         \n",
      "                                                                 \n",
      " dense_2 (Dense)             (None, 2)                 514       \n",
      "                                                                 \n",
      "=================================================================\n",
      "Total params: 3357090 (12.81 MB)\n",
      "Trainable params: 3355426 (12.80 MB)\n",
      "Non-trainable params: 1664 (6.50 KB)\n",
      "_________________________________________________________________\n"
     ]
    }
   ],
   "source": [
    "from keras.models import Sequential\n",
    "from keras.layers import Conv2D, MaxPooling2D, Flatten, Dense, BatchNormalization, Dropout\n",
    "\n",
    "# Define the CNN architecture\n",
    "model = Sequential()\n",
    "\n",
    "# First convolutional layer\n",
    "model.add(Conv2D(32, (3, 3), activation='relu', input_shape=(64, 64, 3)))  # Assuming RGB images\n",
    "model.add(MaxPooling2D(pool_size=(2, 2)))\n",
    "model.add(BatchNormalization())\n",
    "model.add(Dropout(0.2))\n",
    "\n",
    "# Second convolutional layer\n",
    "model.add(Conv2D(32, (3, 3), activation='relu'))\n",
    "model.add(MaxPooling2D(pool_size=(2, 2)))\n",
    "model.add(BatchNormalization())\n",
    "model.add(Dropout(0.2))\n",
    "\n",
    "# Flatten the feature matrix\n",
    "model.add(Flatten())\n",
    "\n",
    "# Fully connected layers\n",
    "model.add(Dense(512, activation='relu'))\n",
    "model.add(BatchNormalization())\n",
    "model.add(Dropout(0.2))\n",
    "model.add(Dense(256, activation='relu'))\n",
    "model.add(BatchNormalization())\n",
    "model.add(Dropout(0.2))\n",
    "\n",
    "# Output layer\n",
    "model.add(Dense(2, activation='softmax'))  # Assuming binary classification\n",
    "\n",
    "# Compile the model\n",
    "model.compile(optimizer='adam', loss='categorical_crossentropy', metrics=['accuracy'])\n",
    "\n",
    "# Print model summary\n",
    "model.summary()\n"
   ]
  },
  {
   "cell_type": "code",
   "execution_count": 76,
   "id": "98d8c1ee",
   "metadata": {},
   "outputs": [],
   "source": [
    "checkpoint = tf.keras.callbacks.ModelCheckpoint(\n",
    "    \"model.h5\", monitor=\"val_accuracy\", save_best_only=True, mode=\"auto\"\n",
    ")"
   ]
  },
  {
   "cell_type": "code",
   "execution_count": 59,
   "id": "caede573",
   "metadata": {
    "scrolled": true
   },
   "outputs": [
    {
     "name": "stdout",
     "output_type": "stream",
     "text": [
      "{0: 0.5, 1: 0.5}\n"
     ]
    }
   ],
   "source": [
    "class_weight = {0:0.5, 1: 0.5}\n",
    "print(class_weight)"
   ]
  },
  {
   "cell_type": "markdown",
   "id": "cae74331",
   "metadata": {},
   "source": [
    "The number of epochs is set to 50,while a callback function is written to invoke early stopping when the model’s validation accuracy reaches a maximum accuracy. "
   ]
  },
  {
   "cell_type": "code",
   "execution_count": 77,
   "id": "1882d3e3",
   "metadata": {},
   "outputs": [],
   "source": [
    "from keras.callbacks import EarlyStopping\n",
    "\n",
    "# Define early stopping callback\n",
    "early_stopping = EarlyStopping(monitor='val_accuracy', min_delta=0, patience=5, verbose=1, mode='auto', restore_best_weights=True)\n"
   ]
  },
  {
   "cell_type": "markdown",
   "id": "7915337b",
   "metadata": {},
   "source": [
    "### Training the Model"
   ]
  },
  {
   "cell_type": "markdown",
   "id": "6b3bb503",
   "metadata": {},
   "source": [
    "Finally, we have reached the training step for our CNN. We tell the method \"fit\" to use the training images (and associated labels) for 50 epochs and using the test sample as validation set. By default, the batch size is of 193 examples. We also tell the method to show progress bars by setting the value of \"verbose."
   ]
  },
  {
   "cell_type": "code",
   "execution_count": 78,
   "id": "2d07405f",
   "metadata": {},
   "outputs": [
    {
     "name": "stdout",
     "output_type": "stream",
     "text": [
      "Epoch 1/50\n",
      "193/193 [==============================] - 210s 1s/step - loss: 0.6314 - accuracy: 0.6992 - val_loss: 0.6956 - val_accuracy: 0.5149\n",
      "Epoch 2/50\n",
      "193/193 [==============================] - 220s 1s/step - loss: 0.5238 - accuracy: 0.7471 - val_loss: 0.6174 - val_accuracy: 0.5945\n",
      "Epoch 3/50\n",
      "193/193 [==============================] - 245s 1s/step - loss: 0.4777 - accuracy: 0.7709 - val_loss: 0.7791 - val_accuracy: 0.6276\n",
      "Epoch 4/50\n",
      "193/193 [==============================] - 221s 1s/step - loss: 0.4508 - accuracy: 0.7855 - val_loss: 1.2169 - val_accuracy: 0.6054\n",
      "Epoch 5/50\n",
      "193/193 [==============================] - 207s 1s/step - loss: 0.4270 - accuracy: 0.7962 - val_loss: 1.7336 - val_accuracy: 0.5546\n",
      "Epoch 6/50\n",
      "193/193 [==============================] - 215s 1s/step - loss: 0.4092 - accuracy: 0.8066 - val_loss: 1.1366 - val_accuracy: 0.6184\n",
      "Epoch 7/50\n",
      "193/193 [==============================] - 228s 1s/step - loss: 0.3939 - accuracy: 0.8175 - val_loss: 1.1342 - val_accuracy: 0.6651\n",
      "Epoch 8/50\n",
      "193/193 [==============================] - 207s 1s/step - loss: 0.3800 - accuracy: 0.8252 - val_loss: 2.3955 - val_accuracy: 0.4967\n",
      "Epoch 9/50\n",
      "193/193 [==============================] - 206s 1s/step - loss: 0.3631 - accuracy: 0.8327 - val_loss: 2.0224 - val_accuracy: 0.5933\n",
      "Epoch 10/50\n",
      "193/193 [==============================] - 197s 1s/step - loss: 0.3496 - accuracy: 0.8424 - val_loss: 2.0522 - val_accuracy: 0.5004\n",
      "Epoch 11/50\n",
      "193/193 [==============================] - 193s 1s/step - loss: 0.3420 - accuracy: 0.8453 - val_loss: 1.0728 - val_accuracy: 0.5829\n",
      "Epoch 12/50\n",
      "193/193 [==============================] - ETA: 0s - loss: 0.3355 - accuracy: 0.8471Restoring model weights from the end of the best epoch: 7.\n",
      "193/193 [==============================] - 198s 1s/step - loss: 0.3355 - accuracy: 0.8471 - val_loss: 1.3750 - val_accuracy: 0.6061\n",
      "Epoch 12: early stopping\n"
     ]
    },
    {
     "data": {
      "text/plain": [
       "<keras.src.callbacks.History at 0x247207fcca0>"
      ]
     },
     "execution_count": 78,
     "metadata": {},
     "output_type": "execute_result"
    }
   ],
   "source": [
    "model.fit(\n",
    "    fixed_train_ds,\n",
    "    epochs=50,\n",
    "    validation_data=fixed_valid_ds,\n",
    "    verbose=1,\n",
    "    callbacks=[early_stopping]\n",
    "   # class_weight=class_weight,\n",
    ")"
   ]
  },
  {
   "cell_type": "markdown",
   "id": "eb985115",
   "metadata": {},
   "source": [
    "### 4. EVALUATING THE MODEL'S PERFORMANCE"
   ]
  },
  {
   "cell_type": "code",
   "execution_count": 7,
   "id": "fdce138b",
   "metadata": {},
   "outputs": [],
   "source": [
    "model = tf.keras.models.load_model(\"model.h5\")"
   ]
  },
  {
   "cell_type": "markdown",
   "id": "2d3d4db5",
   "metadata": {},
   "source": [
    "Let's display the accuracy reached in the validation sample (recall that we are  using a test sample; the validation and test are not the same)."
   ]
  },
  {
   "cell_type": "code",
   "execution_count": 8,
   "id": "935ae984",
   "metadata": {},
   "outputs": [
    {
     "name": "stdout",
     "output_type": "stream",
     "text": [
      "42/42 [==============================] - 10s 232ms/step - loss: 0.5666 - accuracy: 0.7284\n",
      "Accuracy over validation: 72.84%\n"
     ]
    }
   ],
   "source": [
    "acc = model.evaluate(fixed_test_ds)\n",
    "print(\"Accuracy over validation: {:.2f}%\".format(acc[1] * 100))"
   ]
  },
  {
   "cell_type": "code",
   "execution_count": 10,
   "id": "0c687f13",
   "metadata": {},
   "outputs": [
    {
     "name": "stdout",
     "output_type": "stream",
     "text": [
      "4/4 [==============================] - 0s 70ms/step\n",
      "4/4 [==============================] - 0s 99ms/step\n",
      "4/4 [==============================] - 0s 68ms/step\n",
      "4/4 [==============================] - 0s 70ms/step\n",
      "4/4 [==============================] - 0s 70ms/step\n",
      "4/4 [==============================] - 0s 74ms/step\n",
      "4/4 [==============================] - 0s 74ms/step\n",
      "4/4 [==============================] - 0s 70ms/step\n",
      "4/4 [==============================] - 0s 68ms/step\n",
      "4/4 [==============================] - 0s 71ms/step\n",
      "4/4 [==============================] - 0s 72ms/step\n",
      "4/4 [==============================] - 0s 65ms/step\n",
      "4/4 [==============================] - 0s 63ms/step\n",
      "4/4 [==============================] - 0s 66ms/step\n",
      "4/4 [==============================] - 0s 63ms/step\n",
      "4/4 [==============================] - 0s 65ms/step\n",
      "4/4 [==============================] - 0s 62ms/step\n",
      "4/4 [==============================] - 0s 63ms/step\n",
      "4/4 [==============================] - 0s 64ms/step\n",
      "4/4 [==============================] - 0s 63ms/step\n",
      "4/4 [==============================] - 0s 64ms/step\n",
      "4/4 [==============================] - 0s 62ms/step\n",
      "4/4 [==============================] - 0s 80ms/step\n",
      "4/4 [==============================] - 0s 65ms/step\n",
      "4/4 [==============================] - 0s 63ms/step\n",
      "4/4 [==============================] - 0s 64ms/step\n",
      "4/4 [==============================] - 0s 62ms/step\n",
      "4/4 [==============================] - 0s 63ms/step\n",
      "4/4 [==============================] - 0s 64ms/step\n",
      "4/4 [==============================] - 0s 77ms/step\n",
      "4/4 [==============================] - 0s 73ms/step\n",
      "4/4 [==============================] - 0s 69ms/step\n",
      "4/4 [==============================] - 0s 69ms/step\n",
      "4/4 [==============================] - 0s 72ms/step\n",
      "4/4 [==============================] - 0s 69ms/step\n",
      "4/4 [==============================] - 0s 87ms/step\n",
      "4/4 [==============================] - 0s 80ms/step\n",
      "4/4 [==============================] - 0s 79ms/step\n",
      "4/4 [==============================] - 0s 75ms/step\n",
      "4/4 [==============================] - 0s 70ms/step\n",
      "4/4 [==============================] - 0s 69ms/step\n",
      "2/2 [==============================] - 0s 41ms/step\n"
     ]
    }
   ],
   "source": [
    "\n",
    "y_true = []\n",
    "y_pred = []\n",
    "\n",
    "for images, labels in fixed_test_ds:\n",
    "    predictions = model.predict(images)\n",
    "    y_true.extend(np.argmax(labels, axis=1))\n",
    "    y_pred.extend(np.argmax(predictions, axis=1))\n",
    "\n",
    "y_true = np.array(y_true)\n",
    "y_pred = np.array(y_pred)\n"
   ]
  },
  {
   "cell_type": "code",
   "execution_count": 12,
   "id": "ab121287",
   "metadata": {},
   "outputs": [
    {
     "name": "stdout",
     "output_type": "stream",
     "text": [
      "              precision    recall  f1-score   support\n",
      "\n",
      "  Uninfected       0.91      0.51      0.66      2086\n",
      " Parasitized       0.66      0.95      0.78      2048\n",
      "\n",
      "    accuracy                           0.73      4134\n",
      "   macro avg       0.78      0.73      0.72      4134\n",
      "weighted avg       0.78      0.73      0.72      4134\n",
      "\n"
     ]
    }
   ],
   "source": [
    "report = classification_report(y_true, y_pred, target_names=['Uninfected', 'Parasitized'])\n",
    "print(report)\n"
   ]
  },
  {
   "cell_type": "code",
   "execution_count": 13,
   "id": "909f8398",
   "metadata": {},
   "outputs": [
    {
     "name": "stdout",
     "output_type": "stream",
     "text": [
      "Confusion Matrix:\n",
      "[[1069 1017]\n",
      " [ 106 1942]]\n"
     ]
    }
   ],
   "source": [
    "cm = confusion_matrix(y_true, y_pred)\n",
    "print(\"Confusion Matrix:\")\n",
    "print(cm)\n"
   ]
  },
  {
   "cell_type": "code",
   "execution_count": 17,
   "id": "372aa43b",
   "metadata": {},
   "outputs": [
    {
     "data": {
      "image/png": "[encoded data removed]",
      "text/plain": [
       "<Figure size 1000x800 with 2 Axes>"
      ]
     },
     "metadata": {},
     "output_type": "display_data"
    }
   ],
   "source": [
    "plt.figure(figsize=(10, 8))\n",
    "sns.heatmap(cm, annot=True, fmt='d', cmap='Blues', xticklabels=['Uninfected', 'Parasitized'], yticklabels=['Uninfected', 'Parasitized'])\n",
    "plt.xlabel('Predicted')\n",
    "plt.ylabel('True')\n",
    "plt.title('Confusion Matrix')\n",
    "plt.show()\n"
   ]
  },
  {
   "cell_type": "code",
   "execution_count": null,
   "id": "50165aa8",
   "metadata": {},
   "outputs": [],
   "source": []
  },
  {
   "cell_type": "code",
   "execution_count": null,
   "id": "cc9a2ddf",
   "metadata": {},
   "outputs": [],
   "source": []
  }
 ],
 "metadata": {
  "kernelspec": {
   "display_name": "Python 3 (ipykernel)",
   "language": "python",
   "name": "python3"
  },
  "language_info": {
   "codemirror_mode": {
    "name": "ipython",
    "version": 3
   },
   "file_extension": ".py",
   "mimetype": "text/x-python",
   "name": "python",
   "nbconvert_exporter": "python",
   "pygments_lexer": "ipython3",
   "version": "3.8.13"
  }
 },
 "nbformat": 4,
 "nbformat_minor": 5
}
